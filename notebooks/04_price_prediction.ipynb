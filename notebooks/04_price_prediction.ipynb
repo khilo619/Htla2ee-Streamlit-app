{
 "cells": [
  {
   "metadata": {},
   "cell_type": "code",
   "outputs": [],
   "execution_count": null,
   "source": [
    "import pandas as pd\n",
    "import numpy as np\n",
    "from sklearn.model_selection import train_test_split, cross_val_score\n",
    "from sklearn.linear_model import Ridge\n",
    "from sklearn.preprocessing import StandardScaler, PolynomialFeatures\n",
    "from sklearn.metrics import mean_absolute_error, r2_score\n",
    "from statsmodels.stats.outliers_influence import variance_inflation_factor\n"
   ],
   "id": "a2e39e6d8e702099"
  },
  {
   "metadata": {},
   "cell_type": "code",
   "outputs": [],
   "execution_count": null,
   "source": "data = pd.read_csv('cleaned_data.csv')",
   "id": "c286aa09f733ad42"
  },
  {
   "metadata": {},
   "cell_type": "code",
   "outputs": [
    {
     "data": {
      "application/vnd.microsoft.datawrangler.viewer.v0+json": {
       "columns": [
        {
         "name": "index",
         "rawType": "int64",
         "type": "integer"
        },
        {
         "name": "brand",
         "rawType": "object",
         "type": "string"
        },
        {
         "name": "model",
         "rawType": "object",
         "type": "string"
        },
        {
         "name": "year",
         "rawType": "int64",
         "type": "integer"
        },
        {
         "name": "mileage",
         "rawType": "int64",
         "type": "integer"
        },
        {
         "name": "price",
         "rawType": "int64",
         "type": "integer"
        },
        {
         "name": "transmission_type",
         "rawType": "object",
         "type": "string"
        },
        {
         "name": "city",
         "rawType": "object",
         "type": "string"
        }
       ],
       "conversionMethod": "pd.DataFrame",
       "ref": "caf83d46-a8c8-4918-bf96-33d16be8107a",
       "rows": [
        [
         "0",
         "Audi",
         "Q3",
         "2021",
         "65000",
         "2250000",
         "أتوماتيك",
         "6 أكتوبر"
        ],
        [
         "1",
         "Mercedes",
         "C 180",
         "2022",
         "38000",
         "2650000",
         "أتوماتيك",
         "6 أكتوبر"
        ],
        [
         "2",
         "Hyundai",
         "Accent RB",
         "2019",
         "27000",
         "705000",
         "أتوماتيك",
         "القاهرة"
        ],
        [
         "3",
         "Kia",
         "Sportage",
         "2021",
         "68",
         "1400000",
         "أتوماتيك",
         "الجيزة"
        ],
        [
         "4",
         "Hyundai",
         "Tucson GDI",
         "2020",
         "146000",
         "1250000",
         "أتوماتيك",
         "الزقازيق"
        ]
       ],
       "shape": {
        "columns": 7,
        "rows": 5
       }
      },
      "text/html": [
       "<div>\n",
       "<style scoped>\n",
       "    .dataframe tbody tr th:only-of-type {\n",
       "        vertical-align: middle;\n",
       "    }\n",
       "\n",
       "    .dataframe tbody tr th {\n",
       "        vertical-align: top;\n",
       "    }\n",
       "\n",
       "    .dataframe thead th {\n",
       "        text-align: right;\n",
       "    }\n",
       "</style>\n",
       "<table border=\"1\" class=\"dataframe\">\n",
       "  <thead>\n",
       "    <tr style=\"text-align: right;\">\n",
       "      <th></th>\n",
       "      <th>brand</th>\n",
       "      <th>model</th>\n",
       "      <th>year</th>\n",
       "      <th>mileage</th>\n",
       "      <th>price</th>\n",
       "      <th>transmission_type</th>\n",
       "      <th>city</th>\n",
       "    </tr>\n",
       "  </thead>\n",
       "  <tbody>\n",
       "    <tr>\n",
       "      <th>0</th>\n",
       "      <td>Audi</td>\n",
       "      <td>Q3</td>\n",
       "      <td>2021</td>\n",
       "      <td>65000</td>\n",
       "      <td>2250000</td>\n",
       "      <td>أتوماتيك</td>\n",
       "      <td>6 أكتوبر</td>\n",
       "    </tr>\n",
       "    <tr>\n",
       "      <th>1</th>\n",
       "      <td>Mercedes</td>\n",
       "      <td>C 180</td>\n",
       "      <td>2022</td>\n",
       "      <td>38000</td>\n",
       "      <td>2650000</td>\n",
       "      <td>أتوماتيك</td>\n",
       "      <td>6 أكتوبر</td>\n",
       "    </tr>\n",
       "    <tr>\n",
       "      <th>2</th>\n",
       "      <td>Hyundai</td>\n",
       "      <td>Accent RB</td>\n",
       "      <td>2019</td>\n",
       "      <td>27000</td>\n",
       "      <td>705000</td>\n",
       "      <td>أتوماتيك</td>\n",
       "      <td>القاهرة</td>\n",
       "    </tr>\n",
       "    <tr>\n",
       "      <th>3</th>\n",
       "      <td>Kia</td>\n",
       "      <td>Sportage</td>\n",
       "      <td>2021</td>\n",
       "      <td>68</td>\n",
       "      <td>1400000</td>\n",
       "      <td>أتوماتيك</td>\n",
       "      <td>الجيزة</td>\n",
       "    </tr>\n",
       "    <tr>\n",
       "      <th>4</th>\n",
       "      <td>Hyundai</td>\n",
       "      <td>Tucson GDI</td>\n",
       "      <td>2020</td>\n",
       "      <td>146000</td>\n",
       "      <td>1250000</td>\n",
       "      <td>أتوماتيك</td>\n",
       "      <td>الزقازيق</td>\n",
       "    </tr>\n",
       "  </tbody>\n",
       "</table>\n",
       "</div>"
      ],
      "text/plain": [
       "      brand       model  year  mileage    price transmission_type      city\n",
       "0      Audi          Q3  2021    65000  2250000          أتوماتيك  6 أكتوبر\n",
       "1  Mercedes       C 180  2022    38000  2650000          أتوماتيك  6 أكتوبر\n",
       "2   Hyundai   Accent RB  2019    27000   705000          أتوماتيك   القاهرة\n",
       "3       Kia    Sportage  2021       68  1400000          أتوماتيك    الجيزة\n",
       "4   Hyundai  Tucson GDI  2020   146000  1250000          أتوماتيك  الزقازيق"
      ]
     },
     "metadata": {},
     "output_type": "display_data"
    }
   ],
   "execution_count": null,
   "source": [
    "# select features\n",
    "features = ['brand', 'model', 'year', 'mileage', 'price', 'transmission_type', 'city']\n",
    "df = data[features]\n",
    "df.head()"
   ],
   "id": "e29ab87298dff68"
  },
  {
   "metadata": {},
   "cell_type": "code",
   "outputs": [
    {
     "name": "stderr",
     "output_type": "stream",
     "text": [
      "C:\\Users\\mmakw\\AppData\\Local\\Temp\\ipykernel_45072\\3883003115.py:3: FutureWarning: Downcasting behavior in Series and DataFrame methods 'where', 'mask', and 'clip' is deprecated. In a future version this will not infer object dtypes or cast all-round floats to integers. Instead call result.infer_objects(copy=False) for object inference, or cast round floats explicitly. To opt-in to the future behavior, set `pd.set_option('future.no_silent_downcasting', True)`\n",
      "  df.loc[:, 'mileage'] = df['mileage'].clip(lower=df['mileage'].quantile(0.01), upper=df['mileage'].quantile(0.99)).astype(float)\n"
     ]
    }
   ],
   "execution_count": null,
   "source": [
    "# Handle outliers (cap at 1st and 99th percentiles)\n",
    "df.loc[:, 'price'] = df['price'].clip(lower=df['price'].quantile(0.01), upper=df['price'].quantile(0.99)).astype(float)\n",
    "df.loc[:, 'mileage'] = df['mileage'].clip(lower=df['mileage'].quantile(0.01), upper=df['mileage'].quantile(0.99)).astype(float)"
   ],
   "id": "ae311295411cace8"
  },
  {
   "metadata": {},
   "cell_type": "code",
   "outputs": [
    {
     "name": "stderr",
     "output_type": "stream",
     "text": [
      "C:\\Users\\mmakw\\AppData\\Local\\Temp\\ipykernel_45072\\3792370747.py:3: SettingWithCopyWarning: \n",
      "A value is trying to be set on a copy of a slice from a DataFrame.\n",
      "Try using .loc[row_indexer,col_indexer] = value instead\n",
      "\n",
      "See the caveats in the documentation: https://pandas.pydata.org/pandas-docs/stable/user_guide/indexing.html#returning-a-view-versus-a-copy\n",
      "  df.loc[:, 'age'] = current_year - df['year']\n"
     ]
    },
    {
     "data": {
      "application/vnd.microsoft.datawrangler.viewer.v0+json": {
       "columns": [
        {
         "name": "index",
         "rawType": "int64",
         "type": "integer"
        },
        {
         "name": "brand",
         "rawType": "object",
         "type": "string"
        },
        {
         "name": "model",
         "rawType": "object",
         "type": "string"
        },
        {
         "name": "year",
         "rawType": "int64",
         "type": "integer"
        },
        {
         "name": "mileage",
         "rawType": "int64",
         "type": "integer"
        },
        {
         "name": "price",
         "rawType": "int64",
         "type": "integer"
        },
        {
         "name": "transmission_type",
         "rawType": "object",
         "type": "string"
        },
        {
         "name": "city",
         "rawType": "object",
         "type": "string"
        },
        {
         "name": "age",
         "rawType": "int64",
         "type": "integer"
        }
       ],
       "conversionMethod": "pd.DataFrame",
       "ref": "e947a346-03f4-44e9-ab99-28aeb5fc8c96",
       "rows": [
        [
         "0",
         "Audi",
         "Q3",
         "2021",
         "65000",
         "2250000",
         "أتوماتيك",
         "6 أكتوبر",
         "4"
        ],
        [
         "1",
         "Mercedes",
         "C 180",
         "2022",
         "38000",
         "2650000",
         "أتوماتيك",
         "6 أكتوبر",
         "3"
        ],
        [
         "2",
         "Hyundai",
         "Accent RB",
         "2019",
         "27000",
         "705000",
         "أتوماتيك",
         "القاهرة",
         "6"
        ],
        [
         "3",
         "Kia",
         "Sportage",
         "2021",
         "1000",
         "1400000",
         "أتوماتيك",
         "الجيزة",
         "4"
        ],
        [
         "4",
         "Hyundai",
         "Tucson GDI",
         "2020",
         "146000",
         "1250000",
         "أتوماتيك",
         "الزقازيق",
         "5"
        ]
       ],
       "shape": {
        "columns": 8,
        "rows": 5
       }
      },
      "text/html": [
       "<div>\n",
       "<style scoped>\n",
       "    .dataframe tbody tr th:only-of-type {\n",
       "        vertical-align: middle;\n",
       "    }\n",
       "\n",
       "    .dataframe tbody tr th {\n",
       "        vertical-align: top;\n",
       "    }\n",
       "\n",
       "    .dataframe thead th {\n",
       "        text-align: right;\n",
       "    }\n",
       "</style>\n",
       "<table border=\"1\" class=\"dataframe\">\n",
       "  <thead>\n",
       "    <tr style=\"text-align: right;\">\n",
       "      <th></th>\n",
       "      <th>brand</th>\n",
       "      <th>model</th>\n",
       "      <th>year</th>\n",
       "      <th>mileage</th>\n",
       "      <th>price</th>\n",
       "      <th>transmission_type</th>\n",
       "      <th>city</th>\n",
       "      <th>age</th>\n",
       "    </tr>\n",
       "  </thead>\n",
       "  <tbody>\n",
       "    <tr>\n",
       "      <th>0</th>\n",
       "      <td>Audi</td>\n",
       "      <td>Q3</td>\n",
       "      <td>2021</td>\n",
       "      <td>65000</td>\n",
       "      <td>2250000</td>\n",
       "      <td>أتوماتيك</td>\n",
       "      <td>6 أكتوبر</td>\n",
       "      <td>4</td>\n",
       "    </tr>\n",
       "    <tr>\n",
       "      <th>1</th>\n",
       "      <td>Mercedes</td>\n",
       "      <td>C 180</td>\n",
       "      <td>2022</td>\n",
       "      <td>38000</td>\n",
       "      <td>2650000</td>\n",
       "      <td>أتوماتيك</td>\n",
       "      <td>6 أكتوبر</td>\n",
       "      <td>3</td>\n",
       "    </tr>\n",
       "    <tr>\n",
       "      <th>2</th>\n",
       "      <td>Hyundai</td>\n",
       "      <td>Accent RB</td>\n",
       "      <td>2019</td>\n",
       "      <td>27000</td>\n",
       "      <td>705000</td>\n",
       "      <td>أتوماتيك</td>\n",
       "      <td>القاهرة</td>\n",
       "      <td>6</td>\n",
       "    </tr>\n",
       "    <tr>\n",
       "      <th>3</th>\n",
       "      <td>Kia</td>\n",
       "      <td>Sportage</td>\n",
       "      <td>2021</td>\n",
       "      <td>1000</td>\n",
       "      <td>1400000</td>\n",
       "      <td>أتوماتيك</td>\n",
       "      <td>الجيزة</td>\n",
       "      <td>4</td>\n",
       "    </tr>\n",
       "    <tr>\n",
       "      <th>4</th>\n",
       "      <td>Hyundai</td>\n",
       "      <td>Tucson GDI</td>\n",
       "      <td>2020</td>\n",
       "      <td>146000</td>\n",
       "      <td>1250000</td>\n",
       "      <td>أتوماتيك</td>\n",
       "      <td>الزقازيق</td>\n",
       "      <td>5</td>\n",
       "    </tr>\n",
       "  </tbody>\n",
       "</table>\n",
       "</div>"
      ],
      "text/plain": [
       "      brand       model  year  mileage    price transmission_type      city  \\\n",
       "0      Audi          Q3  2021    65000  2250000          أتوماتيك  6 أكتوبر   \n",
       "1  Mercedes       C 180  2022    38000  2650000          أتوماتيك  6 أكتوبر   \n",
       "2   Hyundai   Accent RB  2019    27000   705000          أتوماتيك   القاهرة   \n",
       "3       Kia    Sportage  2021     1000  1400000          أتوماتيك    الجيزة   \n",
       "4   Hyundai  Tucson GDI  2020   146000  1250000          أتوماتيك  الزقازيق   \n",
       "\n",
       "   age  \n",
       "0    4  \n",
       "1    3  \n",
       "2    6  \n",
       "3    4  \n",
       "4    5  "
      ]
     },
     "metadata": {},
     "output_type": "display_data"
    }
   ],
   "execution_count": null,
   "source": [
    "# add age\n",
    "current_year = 2025\n",
    "df.loc[:, 'age'] = current_year - df['year']\n",
    "df.head()"
   ],
   "id": "68bcf1db4b593dde"
  },
  {
   "metadata": {},
   "cell_type": "code",
   "outputs": [
    {
     "data": {
      "application/vnd.microsoft.datawrangler.viewer.v0+json": {
       "columns": [
        {
         "name": "index",
         "rawType": "int64",
         "type": "integer"
        },
        {
         "name": "brand",
         "rawType": "object",
         "type": "string"
        },
        {
         "name": "model",
         "rawType": "object",
         "type": "string"
        },
        {
         "name": "year",
         "rawType": "int64",
         "type": "integer"
        },
        {
         "name": "mileage",
         "rawType": "int64",
         "type": "integer"
        },
        {
         "name": "price",
         "rawType": "int64",
         "type": "integer"
        },
        {
         "name": "transmission_type",
         "rawType": "object",
         "type": "string"
        },
        {
         "name": "city",
         "rawType": "object",
         "type": "string"
        },
        {
         "name": "age",
         "rawType": "int64",
         "type": "integer"
        }
       ],
       "conversionMethod": "pd.DataFrame",
       "ref": "1c892c40-3910-43cb-b7c1-48341ed66991",
       "rows": [
        [
         "0",
         "Audi",
         "Q3",
         "2021",
         "65000",
         "2250000",
         "أتوماتيك",
         "6 أكتوبر",
         "4"
        ],
        [
         "1",
         "Mercedes",
         "C 180",
         "2022",
         "38000",
         "2650000",
         "أتوماتيك",
         "6 أكتوبر",
         "3"
        ],
        [
         "2",
         "Hyundai",
         "Accent RB",
         "2019",
         "27000",
         "705000",
         "أتوماتيك",
         "القاهرة",
         "6"
        ],
        [
         "3",
         "Kia",
         "Sportage",
         "2021",
         "1000",
         "1400000",
         "أتوماتيك",
         "الجيزة",
         "4"
        ],
        [
         "4",
         "Hyundai",
         "Tucson GDI",
         "2020",
         "146000",
         "1250000",
         "أتوماتيك",
         "الزقازيق",
         "5"
        ]
       ],
       "shape": {
        "columns": 8,
        "rows": 5
       }
      },
      "text/html": [
       "<div>\n",
       "<style scoped>\n",
       "    .dataframe tbody tr th:only-of-type {\n",
       "        vertical-align: middle;\n",
       "    }\n",
       "\n",
       "    .dataframe tbody tr th {\n",
       "        vertical-align: top;\n",
       "    }\n",
       "\n",
       "    .dataframe thead th {\n",
       "        text-align: right;\n",
       "    }\n",
       "</style>\n",
       "<table border=\"1\" class=\"dataframe\">\n",
       "  <thead>\n",
       "    <tr style=\"text-align: right;\">\n",
       "      <th></th>\n",
       "      <th>brand</th>\n",
       "      <th>model</th>\n",
       "      <th>year</th>\n",
       "      <th>mileage</th>\n",
       "      <th>price</th>\n",
       "      <th>transmission_type</th>\n",
       "      <th>city</th>\n",
       "      <th>age</th>\n",
       "    </tr>\n",
       "  </thead>\n",
       "  <tbody>\n",
       "    <tr>\n",
       "      <th>0</th>\n",
       "      <td>Audi</td>\n",
       "      <td>Q3</td>\n",
       "      <td>2021</td>\n",
       "      <td>65000</td>\n",
       "      <td>2250000</td>\n",
       "      <td>أتوماتيك</td>\n",
       "      <td>6 أكتوبر</td>\n",
       "      <td>4</td>\n",
       "    </tr>\n",
       "    <tr>\n",
       "      <th>1</th>\n",
       "      <td>Mercedes</td>\n",
       "      <td>C 180</td>\n",
       "      <td>2022</td>\n",
       "      <td>38000</td>\n",
       "      <td>2650000</td>\n",
       "      <td>أتوماتيك</td>\n",
       "      <td>6 أكتوبر</td>\n",
       "      <td>3</td>\n",
       "    </tr>\n",
       "    <tr>\n",
       "      <th>2</th>\n",
       "      <td>Hyundai</td>\n",
       "      <td>Accent RB</td>\n",
       "      <td>2019</td>\n",
       "      <td>27000</td>\n",
       "      <td>705000</td>\n",
       "      <td>أتوماتيك</td>\n",
       "      <td>القاهرة</td>\n",
       "      <td>6</td>\n",
       "    </tr>\n",
       "    <tr>\n",
       "      <th>3</th>\n",
       "      <td>Kia</td>\n",
       "      <td>Sportage</td>\n",
       "      <td>2021</td>\n",
       "      <td>1000</td>\n",
       "      <td>1400000</td>\n",
       "      <td>أتوماتيك</td>\n",
       "      <td>الجيزة</td>\n",
       "      <td>4</td>\n",
       "    </tr>\n",
       "    <tr>\n",
       "      <th>4</th>\n",
       "      <td>Hyundai</td>\n",
       "      <td>Tucson GDI</td>\n",
       "      <td>2020</td>\n",
       "      <td>146000</td>\n",
       "      <td>1250000</td>\n",
       "      <td>أتوماتيك</td>\n",
       "      <td>الزقازيق</td>\n",
       "      <td>5</td>\n",
       "    </tr>\n",
       "  </tbody>\n",
       "</table>\n",
       "</div>"
      ],
      "text/plain": [
       "      brand       model  year  mileage    price transmission_type      city  \\\n",
       "0      Audi          Q3  2021    65000  2250000          أتوماتيك  6 أكتوبر   \n",
       "1  Mercedes       C 180  2022    38000  2650000          أتوماتيك  6 أكتوبر   \n",
       "2   Hyundai   Accent RB  2019    27000   705000          أتوماتيك   القاهرة   \n",
       "3       Kia    Sportage  2021     1000  1400000          أتوماتيك    الجيزة   \n",
       "4   Hyundai  Tucson GDI  2020   146000  1250000          أتوماتيك  الزقازيق   \n",
       "\n",
       "   age  \n",
       "0    4  \n",
       "1    3  \n",
       "2    6  \n",
       "3    4  \n",
       "4    5  "
      ]
     },
     "metadata": {},
     "output_type": "display_data"
    }
   ],
   "execution_count": null,
   "source": [
    "# get rare models (< 5 occurences)\n",
    "model_counts = df['model'].value_counts()\n",
    "rare_models = model_counts[model_counts < 5].index\n",
    "df.loc[:, 'model'] = df['model'].apply(lambda x: 'Rare_Model' if x in rare_models else x)\n",
    "df.head()"
   ],
   "id": "8f015877139f297d"
  },
  {
   "metadata": {},
   "cell_type": "code",
   "outputs": [
    {
     "name": "stdout",
     "output_type": "stream",
     "text": [
      "Warning: Unmapped transmission_type values found. Filling with mode.\n"
     ]
    },
    {
     "name": "stderr",
     "output_type": "stream",
     "text": [
      "C:\\Users\\mmakw\\AppData\\Local\\Temp\\ipykernel_45072\\3125138270.py:7: FutureWarning: Downcasting object dtype arrays on .fillna, .ffill, .bfill is deprecated and will change in a future version. Call result.infer_objects(copy=False) instead. To opt-in to the future behavior, set `pd.set_option('future.no_silent_downcasting', True)`\n",
      "  df.loc[:, 'transmission_type'] = df['transmission_type'].fillna(df['transmission_type'].mode()[0])\n"
     ]
    }
   ],
   "execution_count": null,
   "source": [
    "# Encode transmission_type (handle unexpected values)\n",
    "valid_transmissions = {'أتوماتيك': 1, 'مانيوال': 0}\n",
    "df.loc[:, 'transmission_type'] = df['transmission_type'].map(valid_transmissions)\n",
    "# If there are NaNs due to unmapped values, fill with mode (most common transmission)\n",
    "if df['transmission_type'].isna().any():\n",
    "    print(\"Warning: Unmapped transmission_type values found. Filling with mode.\")\n",
    "    df.loc[:, 'transmission_type'] = df['transmission_type'].fillna(df['transmission_type'].mode()[0])"
   ],
   "id": "44a3509b217e4c6a"
  },
  {
   "metadata": {},
   "cell_type": "code",
   "outputs": [
    {
     "data": {
      "application/vnd.microsoft.datawrangler.viewer.v0+json": {
       "columns": [
        {
         "name": "index",
         "rawType": "int64",
         "type": "integer"
        },
        {
         "name": "brand",
         "rawType": "object",
         "type": "string"
        },
        {
         "name": "model",
         "rawType": "object",
         "type": "string"
        },
        {
         "name": "year",
         "rawType": "int64",
         "type": "integer"
        },
        {
         "name": "mileage",
         "rawType": "int64",
         "type": "integer"
        },
        {
         "name": "price",
         "rawType": "int64",
         "type": "integer"
        },
        {
         "name": "transmission_type",
         "rawType": "object",
         "type": "unknown"
        },
        {
         "name": "city",
         "rawType": "object",
         "type": "string"
        },
        {
         "name": "age",
         "rawType": "int64",
         "type": "integer"
        }
       ],
       "conversionMethod": "pd.DataFrame",
       "ref": "26f9571c-4dcb-46f5-ae8b-14c5976eaf00",
       "rows": [
        [
         "0",
         "Audi",
         "Q3",
         "2021",
         "65000",
         "2250000",
         "1.0",
         "6 أكتوبر",
         "4"
        ],
        [
         "1",
         "Mercedes",
         "C 180",
         "2022",
         "38000",
         "2650000",
         "1.0",
         "6 أكتوبر",
         "3"
        ],
        [
         "2",
         "Hyundai",
         "Accent RB",
         "2019",
         "27000",
         "705000",
         "1.0",
         "القاهرة",
         "6"
        ],
        [
         "3",
         "Kia",
         "Sportage",
         "2021",
         "1000",
         "1400000",
         "1.0",
         "الجيزة",
         "4"
        ],
        [
         "4",
         "Hyundai",
         "Tucson GDI",
         "2020",
         "146000",
         "1250000",
         "1.0",
         "الزقازيق",
         "5"
        ]
       ],
       "shape": {
        "columns": 8,
        "rows": 5
       }
      },
      "text/html": [
       "<div>\n",
       "<style scoped>\n",
       "    .dataframe tbody tr th:only-of-type {\n",
       "        vertical-align: middle;\n",
       "    }\n",
       "\n",
       "    .dataframe tbody tr th {\n",
       "        vertical-align: top;\n",
       "    }\n",
       "\n",
       "    .dataframe thead th {\n",
       "        text-align: right;\n",
       "    }\n",
       "</style>\n",
       "<table border=\"1\" class=\"dataframe\">\n",
       "  <thead>\n",
       "    <tr style=\"text-align: right;\">\n",
       "      <th></th>\n",
       "      <th>brand</th>\n",
       "      <th>model</th>\n",
       "      <th>year</th>\n",
       "      <th>mileage</th>\n",
       "      <th>price</th>\n",
       "      <th>transmission_type</th>\n",
       "      <th>city</th>\n",
       "      <th>age</th>\n",
       "    </tr>\n",
       "  </thead>\n",
       "  <tbody>\n",
       "    <tr>\n",
       "      <th>0</th>\n",
       "      <td>Audi</td>\n",
       "      <td>Q3</td>\n",
       "      <td>2021</td>\n",
       "      <td>65000</td>\n",
       "      <td>2250000</td>\n",
       "      <td>1.0</td>\n",
       "      <td>6 أكتوبر</td>\n",
       "      <td>4</td>\n",
       "    </tr>\n",
       "    <tr>\n",
       "      <th>1</th>\n",
       "      <td>Mercedes</td>\n",
       "      <td>C 180</td>\n",
       "      <td>2022</td>\n",
       "      <td>38000</td>\n",
       "      <td>2650000</td>\n",
       "      <td>1.0</td>\n",
       "      <td>6 أكتوبر</td>\n",
       "      <td>3</td>\n",
       "    </tr>\n",
       "    <tr>\n",
       "      <th>2</th>\n",
       "      <td>Hyundai</td>\n",
       "      <td>Accent RB</td>\n",
       "      <td>2019</td>\n",
       "      <td>27000</td>\n",
       "      <td>705000</td>\n",
       "      <td>1.0</td>\n",
       "      <td>القاهرة</td>\n",
       "      <td>6</td>\n",
       "    </tr>\n",
       "    <tr>\n",
       "      <th>3</th>\n",
       "      <td>Kia</td>\n",
       "      <td>Sportage</td>\n",
       "      <td>2021</td>\n",
       "      <td>1000</td>\n",
       "      <td>1400000</td>\n",
       "      <td>1.0</td>\n",
       "      <td>الجيزة</td>\n",
       "      <td>4</td>\n",
       "    </tr>\n",
       "    <tr>\n",
       "      <th>4</th>\n",
       "      <td>Hyundai</td>\n",
       "      <td>Tucson GDI</td>\n",
       "      <td>2020</td>\n",
       "      <td>146000</td>\n",
       "      <td>1250000</td>\n",
       "      <td>1.0</td>\n",
       "      <td>الزقازيق</td>\n",
       "      <td>5</td>\n",
       "    </tr>\n",
       "  </tbody>\n",
       "</table>\n",
       "</div>"
      ],
      "text/plain": [
       "      brand       model  year  mileage    price transmission_type      city  \\\n",
       "0      Audi          Q3  2021    65000  2250000               1.0  6 أكتوبر   \n",
       "1  Mercedes       C 180  2022    38000  2650000               1.0  6 أكتوبر   \n",
       "2   Hyundai   Accent RB  2019    27000   705000               1.0   القاهرة   \n",
       "3       Kia    Sportage  2021     1000  1400000               1.0    الجيزة   \n",
       "4   Hyundai  Tucson GDI  2020   146000  1250000               1.0  الزقازيق   \n",
       "\n",
       "   age  \n",
       "0    4  \n",
       "1    3  \n",
       "2    6  \n",
       "3    4  \n",
       "4    5  "
      ]
     },
     "metadata": {},
     "output_type": "display_data"
    }
   ],
   "execution_count": null,
   "source": "df.head()",
   "id": "82d82e2c0921f142"
  },
  {
   "metadata": {},
   "cell_type": "code",
   "outputs": [
    {
     "name": "stderr",
     "output_type": "stream",
     "text": [
      "C:\\Users\\mmakw\\AppData\\Local\\Temp\\ipykernel_45072\\1150462924.py:5: SettingWithCopyWarning: \n",
      "A value is trying to be set on a copy of a slice from a DataFrame.\n",
      "Try using .loc[row_indexer,col_indexer] = value instead\n",
      "\n",
      "See the caveats in the documentation: https://pandas.pydata.org/pandas-docs/stable/user_guide/indexing.html#returning-a-view-versus-a-copy\n",
      "  df.loc[:, 'brand_encoded'] = df['brand'].map(brand_mean)\n"
     ]
    }
   ],
   "execution_count": null,
   "source": [
    "# Target encoding for brand, model, and city\n",
    "brand_mean = df.groupby('brand')['price'].mean()\n",
    "model_mean = df.groupby('model')['price'].mean()\n",
    "city_mean = df.groupby('city')['price'].mean()\n",
    "df.loc[:, 'brand_encoded'] = df['brand'].map(brand_mean)\n",
    "df.loc[:, 'model_encoded'] = df['model'].map(model_mean)\n",
    "df.loc[:, 'city_encoded'] = df['city'].map(city_mean)"
   ],
   "id": "52463f447ae5e40c"
  },
  {
   "metadata": {},
   "cell_type": "code",
   "outputs": [],
   "execution_count": null,
   "source": [
    "# Log-transform mileage\n",
    "df.loc[:, 'mileage_log'] = np.log1p(df['mileage'])"
   ],
   "id": "73936fd5d176e4fc"
  },
  {
   "metadata": {},
   "cell_type": "code",
   "outputs": [],
   "execution_count": null,
   "source": [
    "# Drop original columns\n",
    "df = df.drop(['brand', 'model', 'year', 'mileage', 'city'], axis=1)"
   ],
   "id": "ea71636bd169016f"
  },
  {
   "metadata": {},
   "cell_type": "code",
   "outputs": [
    {
     "data": {
      "application/vnd.microsoft.datawrangler.viewer.v0+json": {
       "columns": [
        {
         "name": "index",
         "rawType": "int64",
         "type": "integer"
        },
        {
         "name": "price",
         "rawType": "int64",
         "type": "integer"
        },
        {
         "name": "transmission_type",
         "rawType": "object",
         "type": "unknown"
        },
        {
         "name": "age",
         "rawType": "int64",
         "type": "integer"
        },
        {
         "name": "brand_encoded",
         "rawType": "float64",
         "type": "float"
        },
        {
         "name": "model_encoded",
         "rawType": "float64",
         "type": "float"
        },
        {
         "name": "city_encoded",
         "rawType": "float64",
         "type": "float"
        },
        {
         "name": "mileage_log",
         "rawType": "float64",
         "type": "float"
        }
       ],
       "conversionMethod": "pd.DataFrame",
       "ref": "7d970a73-cf68-4776-ab7c-db17bd36a9a4",
       "rows": [
        [
         "0",
         "2250000",
         "1.0",
         "4",
         "1755634.9206349207",
         "2068333.3333333333",
         "778968.671679198",
         "11.082157933374816"
        ],
        [
         "1",
         "2650000",
         "1.0",
         "3",
         "2111376.355748373",
         "1949072.0338983051",
         "778968.671679198",
         "10.545367754151743"
        ],
        [
         "2",
         "705000",
         "1.0",
         "6",
         "711138.7704918033",
         "677479.1666666666",
         "819582.6890394088",
         "10.203629181337648"
        ],
        [
         "3",
         "1400000",
         "1.0",
         "4",
         "883287.5563380282",
         "1503321.8390804597",
         "603773.8071428571",
         "6.90875477931522"
        ],
        [
         "4",
         "1250000",
         "1.0",
         "5",
         "711138.7704918033",
         "1324333.3333333333",
         "735269.6516853933",
         "11.891368749982085"
        ]
       ],
       "shape": {
        "columns": 7,
        "rows": 5
       }
      },
      "text/html": [
       "<div>\n",
       "<style scoped>\n",
       "    .dataframe tbody tr th:only-of-type {\n",
       "        vertical-align: middle;\n",
       "    }\n",
       "\n",
       "    .dataframe tbody tr th {\n",
       "        vertical-align: top;\n",
       "    }\n",
       "\n",
       "    .dataframe thead th {\n",
       "        text-align: right;\n",
       "    }\n",
       "</style>\n",
       "<table border=\"1\" class=\"dataframe\">\n",
       "  <thead>\n",
       "    <tr style=\"text-align: right;\">\n",
       "      <th></th>\n",
       "      <th>price</th>\n",
       "      <th>transmission_type</th>\n",
       "      <th>age</th>\n",
       "      <th>brand_encoded</th>\n",
       "      <th>model_encoded</th>\n",
       "      <th>city_encoded</th>\n",
       "      <th>mileage_log</th>\n",
       "    </tr>\n",
       "  </thead>\n",
       "  <tbody>\n",
       "    <tr>\n",
       "      <th>0</th>\n",
       "      <td>2250000</td>\n",
       "      <td>1.0</td>\n",
       "      <td>4</td>\n",
       "      <td>1.755635e+06</td>\n",
       "      <td>2.068333e+06</td>\n",
       "      <td>778968.671679</td>\n",
       "      <td>11.082158</td>\n",
       "    </tr>\n",
       "    <tr>\n",
       "      <th>1</th>\n",
       "      <td>2650000</td>\n",
       "      <td>1.0</td>\n",
       "      <td>3</td>\n",
       "      <td>2.111376e+06</td>\n",
       "      <td>1.949072e+06</td>\n",
       "      <td>778968.671679</td>\n",
       "      <td>10.545368</td>\n",
       "    </tr>\n",
       "    <tr>\n",
       "      <th>2</th>\n",
       "      <td>705000</td>\n",
       "      <td>1.0</td>\n",
       "      <td>6</td>\n",
       "      <td>7.111388e+05</td>\n",
       "      <td>6.774792e+05</td>\n",
       "      <td>819582.689039</td>\n",
       "      <td>10.203629</td>\n",
       "    </tr>\n",
       "    <tr>\n",
       "      <th>3</th>\n",
       "      <td>1400000</td>\n",
       "      <td>1.0</td>\n",
       "      <td>4</td>\n",
       "      <td>8.832876e+05</td>\n",
       "      <td>1.503322e+06</td>\n",
       "      <td>603773.807143</td>\n",
       "      <td>6.908755</td>\n",
       "    </tr>\n",
       "    <tr>\n",
       "      <th>4</th>\n",
       "      <td>1250000</td>\n",
       "      <td>1.0</td>\n",
       "      <td>5</td>\n",
       "      <td>7.111388e+05</td>\n",
       "      <td>1.324333e+06</td>\n",
       "      <td>735269.651685</td>\n",
       "      <td>11.891369</td>\n",
       "    </tr>\n",
       "  </tbody>\n",
       "</table>\n",
       "</div>"
      ],
      "text/plain": [
       "     price transmission_type  age  brand_encoded  model_encoded  \\\n",
       "0  2250000               1.0    4   1.755635e+06   2.068333e+06   \n",
       "1  2650000               1.0    3   2.111376e+06   1.949072e+06   \n",
       "2   705000               1.0    6   7.111388e+05   6.774792e+05   \n",
       "3  1400000               1.0    4   8.832876e+05   1.503322e+06   \n",
       "4  1250000               1.0    5   7.111388e+05   1.324333e+06   \n",
       "\n",
       "    city_encoded  mileage_log  \n",
       "0  778968.671679    11.082158  \n",
       "1  778968.671679    10.545368  \n",
       "2  819582.689039    10.203629  \n",
       "3  603773.807143     6.908755  \n",
       "4  735269.651685    11.891369  "
      ]
     },
     "metadata": {},
     "output_type": "display_data"
    }
   ],
   "execution_count": null,
   "source": "df.head()",
   "id": "f0c251ede1c1eef"
  },
  {
   "metadata": {},
   "cell_type": "code",
   "outputs": [],
   "execution_count": null,
   "source": [
    "# Features and target\n",
    "X = df.drop('price', axis=1)\n",
    "y = df['price']\n",
    "\n",
    "# Ensure all features are numeric\n",
    "X = X.astype(float)\n"
   ],
   "id": "3c6f668d7d3056a0"
  },
  {
   "metadata": {},
   "cell_type": "code",
   "outputs": [
    {
     "name": "stdout",
     "output_type": "stream",
     "text": [
      "Correlation Matrix:\n",
      "                   transmission_type       age  brand_encoded  model_encoded  \\\n",
      "transmission_type           1.000000 -0.425470       0.276424       0.367816   \n",
      "age                        -0.425470  1.000000      -0.068453      -0.343803   \n",
      "brand_encoded               0.276424 -0.068453       1.000000       0.660800   \n",
      "model_encoded               0.367816 -0.343803       0.660800       1.000000   \n",
      "city_encoded                0.204422 -0.208651       0.203271       0.239623   \n",
      "mileage_log                -0.185931  0.486367      -0.147847      -0.317113   \n",
      "\n",
      "                   city_encoded  mileage_log  \n",
      "transmission_type      0.204422    -0.185931  \n",
      "age                   -0.208651     0.486367  \n",
      "brand_encoded          0.203271    -0.147847  \n",
      "model_encoded          0.239623    -0.317113  \n",
      "city_encoded           1.000000    -0.131985  \n",
      "mileage_log           -0.131985     1.000000  \n"
     ]
    }
   ],
   "execution_count": null,
   "source": [
    "# Check for multicollinearity\n",
    "print(\"Correlation Matrix:\")\n",
    "print(X.corr())"
   ],
   "id": "25d4df621099e7c2"
  },
  {
   "metadata": {},
   "cell_type": "code",
   "outputs": [
    {
     "name": "stdout",
     "output_type": "stream",
     "text": [
      "\n",
      "Variance Inflation Factor (VIF):\n",
      "             Feature        VIF\n",
      "0  transmission_type   6.197620\n",
      "1                age   4.695791\n",
      "2      brand_encoded   9.034560\n",
      "3      model_encoded   6.971000\n",
      "4       city_encoded  20.029486\n",
      "5        mileage_log  28.433216\n"
     ]
    }
   ],
   "execution_count": null,
   "source": [
    "# lets check the var infalation values for each coeff (defines multicolinearity), helps you to decide wether to remove a featur or not\n",
    "try:\n",
    "    vif_data = pd.DataFrame()\n",
    "    vif_data['Feature'] = X.columns\n",
    "    vif_data['VIF'] = [variance_inflation_factor(X.values, i) for i in range(X.shape[1])]\n",
    "    print(\"\\nVariance Inflation Factor (VIF):\")\n",
    "    print(vif_data)\n",
    "except Exception as e:\n",
    "    print(f\"Warning: VIF calculation failed: {e}\")\n",
    "    print(\"Proceeding without VIF.\")\n"
   ],
   "id": "4f004c0315df552d"
  },
  {
   "metadata": {},
   "cell_type": "code",
   "outputs": [],
   "execution_count": null,
   "source": [
    "# Scale all features by mean\n",
    "scaler = StandardScaler()\n",
    "X_scaled = scaler.fit_transform(X)\n",
    "X = pd.DataFrame(X_scaled, columns=X.columns)"
   ],
   "id": "5d399906721e901f"
  },
  {
   "metadata": {},
   "cell_type": "code",
   "outputs": [],
   "execution_count": null,
   "source": [
    "# Add polynomial features (interaction terms only)\n",
    "poly = PolynomialFeatures(degree=2, include_bias=False, interaction_only=True)\n",
    "X_poly = poly.fit_transform(X)\n",
    "poly_feature_names = poly.get_feature_names_out(X.columns)"
   ],
   "id": "fd05c30b32793ab8"
  },
  {
   "metadata": {},
   "cell_type": "code",
   "outputs": [],
   "execution_count": null,
   "source": [
    "# Split data\n",
    "X_train, X_test, y_train, y_test = train_test_split(X_poly, y, test_size=0.2, random_state=42)"
   ],
   "id": "4f2f4509304bdd1f"
  },
  {
   "metadata": {},
   "cell_type": "code",
   "outputs": [
    {
     "name": "stdout",
     "output_type": "stream",
     "text": [
      "\n",
      "Ridge Regression (alpha=0.01):\n",
      "R-squared (actual): 0.8506513566710707\n",
      "Mean Absolute Error: 142228.69\n",
      "\n",
      "Ridge Regression (alpha=0.1):\n",
      "R-squared (actual): 0.8506513365037163\n",
      "Mean Absolute Error: 142227.84\n",
      "\n",
      "Ridge Regression (alpha=1.0):\n",
      "R-squared (actual): 0.8506511276853592\n",
      "Mean Absolute Error: 142219.27\n",
      "\n",
      "Ridge Regression (alpha=10.0):\n",
      "R-squared (actual): 0.8506483302221471\n",
      "Mean Absolute Error: 142134.60\n",
      "\n",
      "Ridge Regression (alpha=100.0):\n",
      "R-squared (actual): 0.8505542013348517\n",
      "Mean Absolute Error: 141346.82\n",
      "\n",
      "Ridge Regression (alpha=1000.0):\n",
      "R-squared (actual): 0.8456273611266789\n",
      "Mean Absolute Error: 138798.70\n",
      "\n",
      "Ridge Regression (alpha=10000.0):\n",
      "R-squared (actual): 0.7565368692107245\n",
      "Mean Absolute Error: 199045.30\n"
     ]
    }
   ],
   "execution_count": null,
   "source": [
    "# Ridge Regression\n",
    "from sklearn.linear_model import Ridge\n",
    "from sklearn.metrics import r2_score, mean_absolute_error\n",
    "import numpy as np\n",
    "\n",
    "alphas = [0.01, 0.1, 1.0, 10.0, 100.0, 1000.0, 10000.0]\n",
    "best_r2 = 0\n",
    "best_alpha = 0\n",
    "best_mae = float('inf')\n",
    "best_model = None\n",
    "\n",
    "for alpha in alphas:\n",
    "    ridge_model = Ridge(alpha=alpha)\n",
    "    ridge_model.fit(X_train, y_train)\n",
    "    y_pred = ridge_model.predict(X_test)\n",
    "    r2 = r2_score(y_test, y_pred)\n",
    "    mae = mean_absolute_error(y_test, y_pred)\n",
    "\n",
    "    print(f\"\\nRidge Regression (alpha={alpha}):\")\n",
    "    print(f\"R-squared (actual): {r2}\")\n",
    "    print(f\"Mean Absolute Error: {mae:.2f}\")\n",
    "\n",
    "    if r2 > best_r2 or (abs(r2 - best_r2) < 1e-2 and mae < best_mae):\n",
    "        best_r2 = r2\n",
    "        best_alpha = alpha\n",
    "        best_mae = mae\n",
    "        best_model = ridge_model"
   ],
   "id": "58ed628374c0fb04"
  },
  {
   "metadata": {},
   "cell_type": "code",
   "outputs": [
    {
     "name": "stdout",
     "output_type": "stream",
     "text": [
      "\n",
      "Best Ridge Model (alpha=1000.0):\n",
      "R-squared: 0.85\n",
      "Mean Absolute Error: 138798.70\n"
     ]
    }
   ],
   "execution_count": null,
   "source": [
    "print(f\"\\nBest Ridge Model (alpha={best_alpha}):\")\n",
    "print(f\"R-squared: {best_r2:.2f}\")\n",
    "print(f\"Mean Absolute Error: {best_mae:.2f}\")"
   ],
   "id": "bf0b729ee6f7b86a"
  },
  {
   "metadata": {},
   "cell_type": "code",
   "outputs": [
    {
     "name": "stdout",
     "output_type": "stream",
     "text": [
      "\n",
      "Cross-Validation R-squared (alpha=1000.0):\n",
      "[0.8383129  0.85746647 0.81786752 0.85590969 0.83110162 0.86500318\n",
      " 0.86300301 0.85926646 0.84201428 0.85839541]\n",
      "Mean R-squared: 0.85 (+/- 0.03)\n"
     ]
    }
   ],
   "execution_count": null,
   "source": [
    "# Cross-validation for best model\n",
    "cv_scores = cross_val_score(Ridge(alpha=best_alpha), X_poly, y, cv=10, scoring='r2')\n",
    "print(f\"\\nCross-Validation R-squared (alpha={best_alpha}):\")\n",
    "print(cv_scores)\n",
    "print(f\"Mean R-squared: {cv_scores.mean():.2f} (+/- {cv_scores.std() * 2:.2f})\")"
   ],
   "id": "288f3c403f5fc16d"
  },
  {
   "metadata": {},
   "cell_type": "code",
   "outputs": [
    {
     "name": "stdout",
     "output_type": "stream",
     "text": [
      "\n",
      "Feature Coefficients (Best Ridge Model):\n",
      "                            Feature    Coefficient\n",
      "3                     model_encoded  246652.997833\n",
      "2                     brand_encoded  157781.291385\n",
      "0                 transmission_type   58289.401329\n",
      "16       brand_encoded city_encoded   27615.012128\n",
      "4                      city_encoded   26763.251741\n",
      "8   transmission_type model_encoded   26632.841661\n",
      "7   transmission_type brand_encoded   10387.786004\n",
      "14                  age mileage_log    6484.482354\n",
      "6             transmission_type age   -1121.175761\n",
      "18       model_encoded city_encoded   -3836.566560\n",
      "9    transmission_type city_encoded   -6394.985070\n",
      "13                 age city_encoded  -10884.307757\n",
      "20         city_encoded mileage_log  -11107.033644\n",
      "10    transmission_type mileage_log  -12568.352395\n",
      "15      brand_encoded model_encoded  -15507.432070\n",
      "17        brand_encoded mileage_log  -21656.569223\n",
      "19        model_encoded mileage_log  -25465.579614\n",
      "11                age brand_encoded  -42755.054893\n",
      "5                       mileage_log  -76567.173165\n",
      "12                age model_encoded  -81904.679428\n",
      "1                               age -154963.155736\n"
     ]
    }
   ],
   "execution_count": null,
   "source": [
    "\n",
    "# Coefficients for best model\n",
    "coefficients = pd.DataFrame({\n",
    "    'Feature': poly_feature_names,\n",
    "    'Coefficient': best_model.coef_\n",
    "}).sort_values(by='Coefficient', ascending=False)\n",
    "\n",
    "print(\"\\nFeature Coefficients (Best Ridge Model):\")\n",
    "print(coefficients)"
   ],
   "id": "3ff27968550a18ac"
  },
  {
   "metadata": {},
   "cell_type": "code",
   "outputs": [
    {
     "name": "stdout",
     "output_type": "stream",
     "text": [
      "XGBoost R-squared: 0.91\n",
      "XGBoost MAE: 97472.49\n"
     ]
    }
   ],
   "execution_count": null,
   "source": [
    "# lets try another model\n",
    "from xgboost import XGBRegressor # type: ignore\n",
    "xgb_model = XGBRegressor(random_state=42)\n",
    "xgb_model.fit(X_train, y_train)\n",
    "y_pred_xgb = xgb_model.predict(X_test)\n",
    "print(f\"XGBoost R-squared: {r2_score(y_test, y_pred_xgb):.2f}\")\n",
    "print(f\"XGBoost MAE: {mean_absolute_error(y_test, y_pred_xgb):.2f}\")"
   ],
   "id": "3dcca5c19a550989"
  }
 ],
 "metadata": {
  "kernelspec": {
   "display_name": "Python 3",
   "language": "python",
   "name": "python3"
  },
  "language_info": {
   "codemirror_mode": {
    "name": "ipython",
    "version": 2
   },
   "file_extension": ".py",
   "mimetype": "text/x-python",
   "name": "python",
   "nbconvert_exporter": "python",
   "pygments_lexer": "ipython2",
   "version": "2.7.6"
  }
 },
 "nbformat": 4,
 "nbformat_minor": 5
}
