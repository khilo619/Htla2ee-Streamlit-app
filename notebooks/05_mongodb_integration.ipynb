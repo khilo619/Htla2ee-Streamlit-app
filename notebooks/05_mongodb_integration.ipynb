{
 "cells": [
  {
   "metadata": {},
   "cell_type": "code",
   "outputs": [
    {
     "name": "stdout",
     "output_type": "stream",
     "text": [
      "Successfully inserted 10623 documents into 'mydatabase' collection.\n"
     ]
    }
   ],
   "execution_count": 3,
   "source": [
    "from pymongo import MongoClient\n",
    "import pandas as pd\n",
    "\n",
    "df = pd.read_csv('cleaned_data.csv')\n",
    "\n",
    "\n",
    "client = MongoClient('mongodb://localhost:27017/')\n",
    "db = client['Used_Car_Analysis_Egypt']\n",
    "collection = db['mydatabase']\n",
    "\n",
    "\n",
    "data_dict = df.to_dict('records')\n",
    "\n",
    "try:\n",
    "    collection.insert_many(data_dict)\n",
    "    print(f\"Successfully inserted {len(data_dict)} documents into '{collection.name}' collection.\")\n",
    "except Exception as e:\n",
    "    print(f\"An error occurred: {e}\")\n",
    "\n",
    "\n",
    "client.close()"
   ],
   "id": "36ad655207d12142"
  }
 ],
 "metadata": {
  "kernelspec": {
   "display_name": "Python 3",
   "language": "python",
   "name": "python3"
  },
  "language_info": {
   "codemirror_mode": {
    "name": "ipython",
    "version": 2
   },
   "file_extension": ".py",
   "mimetype": "text/x-python",
   "name": "python",
   "nbconvert_exporter": "python",
   "pygments_lexer": "ipython2",
   "version": "2.7.6"
  }
 },
 "nbformat": 4,
 "nbformat_minor": 5
}
